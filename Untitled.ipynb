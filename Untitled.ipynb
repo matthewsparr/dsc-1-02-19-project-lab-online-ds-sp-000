{
 "cells": [
  {
   "cell_type": "code",
   "execution_count": 3,
   "metadata": {},
   "outputs": [
    {
     "name": "stdout",
     "output_type": "stream",
     "text": [
      "Please select an operation:\n",
      "1. Add\n",
      "2. Subtract\n",
      "3. Multiply\n",
      "4. Divide\n",
      "Select operations from 1, 2, 3, 4 : 2\n",
      "Enter first number: 2\n",
      "Enter second number: 1\n"
     ]
    },
    {
     "ename": "NameError",
     "evalue": "name 'subtract' is not defined",
     "output_type": "error",
     "traceback": [
      "\u001b[1;31m---------------------------------------------------------------------------\u001b[0m",
      "\u001b[1;31mNameError\u001b[0m                                 Traceback (most recent call last)",
      "\u001b[1;32m<ipython-input-3-8f548cec6f18>\u001b[0m in \u001b[0;36m<module>\u001b[1;34m()\u001b[0m\n\u001b[0;32m     18\u001b[0m     \u001b[1;32melif\u001b[0m \u001b[0moperation\u001b[0m \u001b[1;33m==\u001b[0m \u001b[1;34m'2'\u001b[0m\u001b[1;33m:\u001b[0m\u001b[1;33m\u001b[0m\u001b[0m\n\u001b[0;32m     19\u001b[0m         \u001b[0mop_symbol\u001b[0m \u001b[1;33m=\u001b[0m \u001b[1;34m' - '\u001b[0m\u001b[1;33m\u001b[0m\u001b[0m\n\u001b[1;32m---> 20\u001b[1;33m         \u001b[0manswer\u001b[0m \u001b[1;33m=\u001b[0m \u001b[0msubtract\u001b[0m\u001b[1;33m(\u001b[0m\u001b[0mfirst\u001b[0m\u001b[1;33m,\u001b[0m \u001b[0msecond\u001b[0m\u001b[1;33m)\u001b[0m\u001b[1;33m\u001b[0m\u001b[0m\n\u001b[0m\u001b[0;32m     21\u001b[0m     \u001b[1;32melif\u001b[0m \u001b[0moperation\u001b[0m \u001b[1;33m==\u001b[0m \u001b[1;34m'3'\u001b[0m\u001b[1;33m:\u001b[0m\u001b[1;33m\u001b[0m\u001b[0m\n\u001b[0;32m     22\u001b[0m         \u001b[0mop_symbol\u001b[0m \u001b[1;33m=\u001b[0m \u001b[1;34m' * '\u001b[0m\u001b[1;33m\u001b[0m\u001b[0m\n",
      "\u001b[1;31mNameError\u001b[0m: name 'subtract' is not defined"
     ]
    }
   ],
   "source": [
    "repeat = True\n",
    "while repeat == True:\n",
    "    print('Please select an operation:')\n",
    "    print('1. Add')\n",
    "    print('2. Subtract')\n",
    "    print('3. Multiply')\n",
    "    print('4. Divide')\n",
    "\n",
    "    operation = input('Select operations from 1, 2, 3, 4 : ')\n",
    "    first = input('Enter first number: ')\n",
    "    second = input('Enter second number: ')\n",
    "\n",
    "    op_symbol = \" \"\n",
    "    answer = int()\n",
    "    if operation == '1':\n",
    "        op_symbol = ' + '\n",
    "        answer = add(first, second)\n",
    "    elif operation == '2':\n",
    "        op_symbol = ' - '\n",
    "        answer = subtract(first, second)\n",
    "    elif operation == '3':\n",
    "        op_symbol = ' * '\n",
    "        answer = multiply(first, second)\n",
    "    elif operation == '4':\n",
    "        op_symbol = ' / '\n",
    "        answer = divide(first, second)\n",
    "    else:\n",
    "        print('Invalid operation. Please try again')\n",
    "    print(str(first) + op_symbol + str(second) + ' = ' + str(answer))\n",
    "\n",
    "    cont = input('Continue? Y / N')\n",
    "    if cont == 'Y' or cont == 'y':\n",
    "        repeat = True\n",
    "    elif cont == 'N' or cont == 'n':\n",
    "        repeat = False\n",
    "    else:\n",
    "        print('Invalid reponse')"
   ]
  },
  {
   "cell_type": "code",
   "execution_count": null,
   "metadata": {},
   "outputs": [],
   "source": []
  }
 ],
 "metadata": {
  "kernelspec": {
   "display_name": "Python 3",
   "language": "python",
   "name": "python3"
  },
  "language_info": {
   "codemirror_mode": {
    "name": "ipython",
    "version": 3
   },
   "file_extension": ".py",
   "mimetype": "text/x-python",
   "name": "python",
   "nbconvert_exporter": "python",
   "pygments_lexer": "ipython3",
   "version": "3.5.6"
  }
 },
 "nbformat": 4,
 "nbformat_minor": 2
}
